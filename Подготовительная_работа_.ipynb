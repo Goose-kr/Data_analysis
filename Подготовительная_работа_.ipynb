{
  "cells": [
    {
      "cell_type": "markdown",
      "metadata": {
        "id": "view-in-github",
        "colab_type": "text"
      },
      "source": [
        "<a href=\"https://colab.research.google.com/github/Goose-kr/Data_analysis/blob/master/%D0%9F%D0%BE%D0%B4%D0%B3%D0%BE%D1%82%D0%BE%D0%B2%D0%B8%D1%82%D0%B5%D0%BB%D1%8C%D0%BD%D0%B0%D1%8F_%D1%80%D0%B0%D0%B1%D0%BE%D1%82%D0%B0_.ipynb\" target=\"_parent\"><img src=\"https://colab.research.google.com/assets/colab-badge.svg\" alt=\"Open In Colab\"/></a>"
      ]
    },
    {
      "cell_type": "markdown",
      "id": "440b359e",
      "metadata": {
        "id": "440b359e"
      },
      "source": [
        "# Примеры целочисленного типа "
      ]
    },
    {
      "cell_type": "code",
      "execution_count": null,
      "id": "3b421237",
      "metadata": {
        "id": "3b421237",
        "outputId": "09721dc9-b5ea-4cfa-8ba6-ddb20e974af7"
      },
      "outputs": [
        {
          "data": {
            "text/plain": [
              "5"
            ]
          },
          "execution_count": 1,
          "metadata": {},
          "output_type": "execute_result"
        }
      ],
      "source": [
        "5 "
      ]
    },
    {
      "cell_type": "code",
      "execution_count": null,
      "id": "146c623d",
      "metadata": {
        "id": "146c623d",
        "outputId": "667178f0-0d89-4210-8462-df8b76c238c5"
      },
      "outputs": [
        {
          "data": {
            "text/plain": [
              "3435"
            ]
          },
          "execution_count": 2,
          "metadata": {},
          "output_type": "execute_result"
        }
      ],
      "source": [
        "3435"
      ]
    },
    {
      "cell_type": "markdown",
      "id": "0eb86f91",
      "metadata": {
        "id": "0eb86f91"
      },
      "source": [
        "#  Вещественные числа "
      ]
    },
    {
      "cell_type": "code",
      "execution_count": null,
      "id": "44a1d0dc",
      "metadata": {
        "id": "44a1d0dc",
        "outputId": "2e4dcf15-173a-4916-cb57-0ee01f8a9b87"
      },
      "outputs": [
        {
          "data": {
            "text/plain": [
              "0.5"
            ]
          },
          "execution_count": 4,
          "metadata": {},
          "output_type": "execute_result"
        }
      ],
      "source": [
        "0.5"
      ]
    },
    {
      "cell_type": "code",
      "execution_count": null,
      "id": "aa3f7953",
      "metadata": {
        "id": "aa3f7953",
        "outputId": "8e9f3ccd-eb2c-411a-ca9d-c2b7e3704df6"
      },
      "outputs": [
        {
          "data": {
            "text/plain": [
              "1.25"
            ]
          },
          "execution_count": 5,
          "metadata": {},
          "output_type": "execute_result"
        }
      ],
      "source": [
        "1.25"
      ]
    },
    {
      "cell_type": "code",
      "execution_count": null,
      "id": "43cb752b",
      "metadata": {
        "id": "43cb752b",
        "outputId": "53512d7d-2a5a-4d7e-f1e5-131a67c8f0f1"
      },
      "outputs": [
        {
          "data": {
            "text/plain": [
              "34.65"
            ]
          },
          "execution_count": 6,
          "metadata": {},
          "output_type": "execute_result"
        }
      ],
      "source": [
        "34.65"
      ]
    },
    {
      "cell_type": "markdown",
      "id": "2ffb5890",
      "metadata": {
        "id": "2ffb5890"
      },
      "source": [
        "# Строки  "
      ]
    },
    {
      "cell_type": "code",
      "execution_count": null,
      "id": "fd5aea34",
      "metadata": {
        "id": "fd5aea34"
      },
      "outputs": [],
      "source": [
        "primer = \"Строка\""
      ]
    },
    {
      "cell_type": "code",
      "execution_count": null,
      "id": "dc0df392",
      "metadata": {
        "id": "dc0df392",
        "outputId": "21ad7844-d279-4cff-d805-d7f491006f2d"
      },
      "outputs": [
        {
          "name": "stdout",
          "output_type": "stream",
          "text": [
            "Строка\n"
          ]
        }
      ],
      "source": [
        "print (primer)"
      ]
    },
    {
      "cell_type": "markdown",
      "id": "ca217474",
      "metadata": {
        "id": "ca217474"
      },
      "source": [
        "# Примеры основных математических операций  "
      ]
    },
    {
      "cell_type": "markdown",
      "id": "0c56fe52",
      "metadata": {
        "id": "0c56fe52"
      },
      "source": [
        "# Сложение "
      ]
    },
    {
      "cell_type": "code",
      "execution_count": null,
      "id": "f1ff58ca",
      "metadata": {
        "id": "f1ff58ca",
        "outputId": "88d8d2e7-8106-42cd-874e-34f9c2145300"
      },
      "outputs": [
        {
          "name": "stdout",
          "output_type": "stream",
          "text": [
            "9.5\n"
          ]
        }
      ],
      "source": [
        "a = 4.5\n",
        "b = 5\n",
        "c = a+b\n",
        "print(c)"
      ]
    },
    {
      "cell_type": "markdown",
      "id": "9a315ac0",
      "metadata": {
        "id": "9a315ac0"
      },
      "source": [
        "# Вычитание "
      ]
    },
    {
      "cell_type": "code",
      "execution_count": null,
      "id": "59ecfaf7",
      "metadata": {
        "id": "59ecfaf7",
        "outputId": "97bc4954-efac-4b4a-96f7-8963901a574c"
      },
      "outputs": [
        {
          "name": "stdout",
          "output_type": "stream",
          "text": [
            "-13\n"
          ]
        }
      ],
      "source": [
        "a = 10\n",
        "b = 23\n",
        "c = a-b\n",
        "print(c)"
      ]
    },
    {
      "cell_type": "markdown",
      "id": "459442f9",
      "metadata": {
        "id": "459442f9"
      },
      "source": [
        "# Умножение  "
      ]
    },
    {
      "cell_type": "code",
      "execution_count": null,
      "id": "49646341",
      "metadata": {
        "id": "49646341",
        "outputId": "0f567456-6458-490f-c872-9a1f667526d9"
      },
      "outputs": [
        {
          "name": "stdout",
          "output_type": "stream",
          "text": [
            "42\n"
          ]
        }
      ],
      "source": [
        "a = 6\n",
        "b = 7 \n",
        "c = a*b\n",
        "print(c)"
      ]
    },
    {
      "cell_type": "markdown",
      "id": "4bb221fb",
      "metadata": {
        "id": "4bb221fb"
      },
      "source": [
        "# Возведение в степень "
      ]
    },
    {
      "cell_type": "code",
      "execution_count": null,
      "id": "7c7e7d64",
      "metadata": {
        "id": "7c7e7d64",
        "outputId": "55e0af6b-94f8-4f8b-ffc0-5f2bf24791c7"
      },
      "outputs": [
        {
          "name": "stdout",
          "output_type": "stream",
          "text": [
            "160000\n"
          ]
        }
      ],
      "source": [
        "a = 20 ** 4\n",
        "print(a)"
      ]
    },
    {
      "cell_type": "code",
      "execution_count": null,
      "id": "7d2376e9",
      "metadata": {
        "id": "7d2376e9",
        "outputId": "244fc2d7-e855-4a47-ae0f-d037892b6f2d"
      },
      "outputs": [
        {
          "name": "stdout",
          "output_type": "stream",
          "text": [
            "900\n"
          ]
        }
      ],
      "source": [
        "a = 30\n",
        "b = 2\n",
        "c = pow (a,b)\n",
        "print(c)"
      ]
    },
    {
      "cell_type": "markdown",
      "id": "d39e524b",
      "metadata": {
        "id": "d39e524b"
      },
      "source": [
        "# Деление "
      ]
    },
    {
      "cell_type": "code",
      "execution_count": null,
      "id": "4a78fb03",
      "metadata": {
        "id": "4a78fb03",
        "outputId": "8500d599-0441-4f3e-c1ab-95080ae689ab"
      },
      "outputs": [
        {
          "name": "stdout",
          "output_type": "stream",
          "text": [
            "4.0\n"
          ]
        }
      ],
      "source": [
        "a = 5 \n",
        "b = 20 \n",
        "c = b/a\n",
        "print(c)"
      ]
    },
    {
      "cell_type": "markdown",
      "id": "b79ed17f",
      "metadata": {
        "id": "b79ed17f"
      },
      "source": [
        "# Целочисленное деление "
      ]
    },
    {
      "cell_type": "code",
      "execution_count": null,
      "id": "1155b3e2",
      "metadata": {
        "id": "1155b3e2",
        "outputId": "e5871d62-58e3-4e9e-bdd2-8b958e6c6ac1"
      },
      "outputs": [
        {
          "name": "stdout",
          "output_type": "stream",
          "text": [
            "2\n"
          ]
        }
      ],
      "source": [
        "a = 9\n",
        "b = 4 \n",
        "c = a // b\n",
        "print(c)"
      ]
    },
    {
      "cell_type": "markdown",
      "id": "21522394",
      "metadata": {
        "id": "21522394"
      },
      "source": [
        "# Остаток от деления "
      ]
    },
    {
      "cell_type": "code",
      "execution_count": null,
      "id": "d63a1896",
      "metadata": {
        "id": "d63a1896",
        "outputId": "c3aa1f6b-1717-4db5-a069-072f08cc313d"
      },
      "outputs": [
        {
          "name": "stdout",
          "output_type": "stream",
          "text": [
            "1\n"
          ]
        }
      ],
      "source": [
        "a = 9\n",
        "b = 4\n",
        "c = a % b\n",
        "print(c)"
      ]
    },
    {
      "cell_type": "markdown",
      "id": "4c870072",
      "metadata": {
        "id": "4c870072"
      },
      "source": [
        "# Конкатенация строк \n"
      ]
    },
    {
      "cell_type": "code",
      "execution_count": null,
      "id": "11ff9b64",
      "metadata": {
        "id": "11ff9b64",
        "outputId": "6dab95f6-05f6-455a-f12d-913eead95291"
      },
      "outputs": [
        {
          "name": "stdout",
          "output_type": "stream",
          "text": [
            "Анализ Данных.\n"
          ]
        }
      ],
      "source": [
        "a = 'Анализ '\n",
        "b = 'Данных.'\n",
        "c = a + b\n",
        "print(c)"
      ]
    },
    {
      "cell_type": "markdown",
      "id": "5e529e3d",
      "metadata": {
        "id": "5e529e3d"
      },
      "source": [
        "# Репликация строк "
      ]
    },
    {
      "cell_type": "code",
      "execution_count": null,
      "id": "4a10696f",
      "metadata": {
        "id": "4a10696f",
        "outputId": "7a55b166-31f1-4f80-d01e-95b3d7fd2cbe"
      },
      "outputs": [
        {
          "name": "stdout",
          "output_type": "stream",
          "text": [
            "aaa\n"
          ]
        }
      ],
      "source": [
        "a =  'Анализ'\n",
        "b = 'a' * 3\n",
        "print (b)"
      ]
    },
    {
      "cell_type": "markdown",
      "id": "1b4613be",
      "metadata": {
        "id": "1b4613be"
      },
      "source": [
        "# Конкатенация строки и числа "
      ]
    },
    {
      "cell_type": "code",
      "execution_count": null,
      "id": "ea3fd317",
      "metadata": {
        "id": "ea3fd317",
        "outputId": "59e2eba2-3a16-4761-a0ea-d89266ed8aab"
      },
      "outputs": [
        {
          "name": "stdout",
          "output_type": "stream",
          "text": [
            "Analiz7\n",
            "<class 'str'>\n"
          ]
        }
      ],
      "source": [
        "a = 'Analiz'\n",
        "b = 7\n",
        "c = a + str(b)\n",
        "print(c)\n",
        "print(type(c))"
      ]
    },
    {
      "cell_type": "markdown",
      "id": "11dca0cc",
      "metadata": {
        "id": "11dca0cc"
      },
      "source": [
        "# Длина строковой переменной "
      ]
    },
    {
      "cell_type": "code",
      "execution_count": null,
      "id": "e0d2d3fe",
      "metadata": {
        "id": "e0d2d3fe",
        "outputId": "fb4bafed-4149-412d-b02f-bd1b9d948d3e"
      },
      "outputs": [
        {
          "name": "stdout",
          "output_type": "stream",
          "text": [
            "25\n"
          ]
        }
      ],
      "source": [
        "a = 'Длина строковой пременной'\n",
        "print(len(a))"
      ]
    },
    {
      "cell_type": "markdown",
      "id": "3587eec5",
      "metadata": {
        "id": "3587eec5"
      },
      "source": [
        "# Работа с List "
      ]
    },
    {
      "cell_type": "markdown",
      "id": "2088e657",
      "metadata": {
        "id": "2088e657"
      },
      "source": [
        "# Создайте список с числовыми данными одним способом и список строк другим способом"
      ]
    },
    {
      "cell_type": "code",
      "execution_count": null,
      "id": "4c2709ab",
      "metadata": {
        "id": "4c2709ab",
        "outputId": "a1ec4334-e67d-4213-9ad0-b914956b91ce"
      },
      "outputs": [
        {
          "name": "stdout",
          "output_type": "stream",
          "text": [
            "[0, 1, 2, 3, 4]\n"
          ]
        }
      ],
      "source": [
        "a = list(range(5))\n",
        "print(a)"
      ]
    },
    {
      "cell_type": "code",
      "execution_count": null,
      "id": "4af23670",
      "metadata": {
        "id": "4af23670",
        "outputId": "06143007-0f79-48e9-b6fc-e72e7e306de6"
      },
      "outputs": [
        {
          "name": "stdout",
          "output_type": "stream",
          "text": [
            "['Анализ', 'danuh']\n"
          ]
        }
      ],
      "source": [
        "a = ['Анализ', 'danuh']\n",
        "print(a)"
      ]
    },
    {
      "cell_type": "markdown",
      "id": "755c4081",
      "metadata": {
        "id": "755c4081"
      },
      "source": [
        "# Выполните конкатенацию созданных списков и сохраните результат в новую переменную"
      ]
    },
    {
      "cell_type": "code",
      "execution_count": null,
      "id": "537fd950",
      "metadata": {
        "id": "537fd950",
        "outputId": "66aa75b5-088b-497b-8f34-5084864cbe78"
      },
      "outputs": [
        {
          "name": "stdout",
          "output_type": "stream",
          "text": [
            "[0, 1, 2, 3, 4, 'Анализ', 'danuh']\n"
          ]
        }
      ],
      "source": [
        "a = list(range(5))\n",
        "b = ['Анализ', 'danuh']\n",
        "c = a + b\n",
        "print(c)"
      ]
    },
    {
      "cell_type": "markdown",
      "id": "28c13796",
      "metadata": {
        "id": "28c13796"
      },
      "source": [
        "# Добавьте новый элемент в конец любого списка"
      ]
    },
    {
      "cell_type": "code",
      "execution_count": null,
      "id": "dc977aad",
      "metadata": {
        "id": "dc977aad",
        "outputId": "53216a59-7028-4eb7-d626-f530788d861c"
      },
      "outputs": [
        {
          "name": "stdout",
          "output_type": "stream",
          "text": [
            "[0, 1, 2, 3, 4, 5]\n",
            "[0, 1, 2, 3, 4, 5, 'f']\n"
          ]
        }
      ],
      "source": [
        "a = list(range(6))\n",
        "print(a)\n",
        "a.append('f')\n",
        "print(a)"
      ]
    },
    {
      "cell_type": "markdown",
      "id": "b86b5bfd",
      "metadata": {
        "id": "b86b5bfd"
      },
      "source": [
        "# Добавьте новый элемент в список с указанием индекса места вставки"
      ]
    },
    {
      "cell_type": "code",
      "execution_count": null,
      "id": "5088f06f",
      "metadata": {
        "id": "5088f06f",
        "outputId": "04da7021-d52b-4294-920d-979fa0743047"
      },
      "outputs": [
        {
          "name": "stdout",
          "output_type": "stream",
          "text": [
            "[0, 1, 2, 3, 4, 5, 6]\n",
            "[0, 1, 2, 3, 'bb', 4, 5, 6]\n"
          ]
        }
      ],
      "source": [
        "a = list(range(7))\n",
        "print(a)\n",
        "a.insert(4,\"bb\")\n",
        "print(a)"
      ]
    },
    {
      "cell_type": "markdown",
      "id": "c0e54096",
      "metadata": {
        "id": "c0e54096"
      },
      "source": [
        "# Удалите элемент, равный заданному значению, из списка"
      ]
    },
    {
      "cell_type": "code",
      "execution_count": null,
      "id": "b640fef8",
      "metadata": {
        "id": "b640fef8",
        "outputId": "ed0de19c-c87b-48d1-9ca5-157d3be07b38"
      },
      "outputs": [
        {
          "name": "stdout",
          "output_type": "stream",
          "text": [
            "[0, 1, 2, 3, 4]\n",
            "[0, 1, 2, 4]\n"
          ]
        }
      ],
      "source": [
        "a = list(range(5))\n",
        "print(a)\n",
        "a.remove(3)\n",
        "print(a)"
      ]
    },
    {
      "cell_type": "markdown",
      "id": "fc3a835e",
      "metadata": {
        "id": "fc3a835e"
      },
      "source": [
        "# Удалите последний элемент из списка"
      ]
    },
    {
      "cell_type": "code",
      "execution_count": null,
      "id": "0185bc9d",
      "metadata": {
        "id": "0185bc9d",
        "outputId": "30ec43da-7e07-4b91-fa06-eef96de469da"
      },
      "outputs": [
        {
          "name": "stdout",
          "output_type": "stream",
          "text": [
            "[0, 1, 2, 3, 4, 5, 6]\n",
            "[0, 1, 2, 3, 4, 5]\n"
          ]
        }
      ],
      "source": [
        "a = list(range(7))\n",
        "print(a)\n",
        "list.pop(a)\n",
        "print(a)"
      ]
    },
    {
      "cell_type": "markdown",
      "id": "144bd444",
      "metadata": {
        "id": "144bd444"
      },
      "source": [
        "# Удалите элемент по индексу"
      ]
    },
    {
      "cell_type": "code",
      "execution_count": null,
      "id": "98272e6f",
      "metadata": {
        "id": "98272e6f",
        "outputId": "1699463c-f3c9-44b5-9396-a700d96a22d3"
      },
      "outputs": [
        {
          "name": "stdout",
          "output_type": "stream",
          "text": [
            "[0, 1, 2, 3, 4, 5, 6, 7]\n",
            "[0, 1, 3, 4, 5, 6, 7]\n"
          ]
        }
      ],
      "source": [
        "a = list(range(8))\n",
        "print(a)\n",
        "del a[2]\n",
        "print(a)"
      ]
    },
    {
      "cell_type": "markdown",
      "id": "d5a8e659",
      "metadata": {
        "id": "d5a8e659"
      },
      "source": [
        "# Создайте вложенный список (список, элементами котрого являются списки)"
      ]
    },
    {
      "cell_type": "code",
      "execution_count": null,
      "id": "eab1c19d",
      "metadata": {
        "id": "eab1c19d",
        "outputId": "6e02ffd5-e667-421e-e44d-09d10b77bf93"
      },
      "outputs": [
        {
          "name": "stdout",
          "output_type": "stream",
          "text": [
            "[['fjghd', 'fdghdf', 'popkp,kl'], ['fdsjfs', 'djsfls', 'lfdgk', 'bvn']]\n"
          ]
        }
      ],
      "source": [
        "a = ['fjghd','fdghdf','popkp,kl']\n",
        "b = ['fdsjfs','djsfls','lfdgk','bvn']\n",
        "c = [a,b]\n",
        "print(c)"
      ]
    },
    {
      "cell_type": "markdown",
      "id": "e92bcbb6",
      "metadata": {
        "id": "e92bcbb6"
      },
      "source": [
        "# Создайте список из чисел и отсортируйте его по убыванию и по возрастанию, напечатайте результат"
      ]
    },
    {
      "cell_type": "code",
      "execution_count": null,
      "id": "aca81f48",
      "metadata": {
        "id": "aca81f48",
        "outputId": "d7ba24bb-ff06-493f-ea43-a47ce0f96ac5"
      },
      "outputs": [
        {
          "name": "stdout",
          "output_type": "stream",
          "text": [
            "[1, 2, 6, 14, 65, 89, 434, 467, 976]\n",
            "[976, 467, 434, 89, 65, 14, 6, 2, 1]\n"
          ]
        }
      ],
      "source": [
        "a = [434,467,2,1,65,89,976,14,6]\n",
        "a.sort()\n",
        "print(a)\n",
        "a.sort(reverse = True)\n",
        "print(a)"
      ]
    },
    {
      "cell_type": "markdown",
      "id": "e86657f0",
      "metadata": {
        "id": "e86657f0"
      },
      "source": [
        "# Выведите срез списка по индексам"
      ]
    },
    {
      "cell_type": "code",
      "execution_count": null,
      "id": "b5ef60b9",
      "metadata": {
        "id": "b5ef60b9",
        "outputId": "c5c43808-a371-4fca-f43b-2f42c2b10656"
      },
      "outputs": [
        {
          "name": "stdout",
          "output_type": "stream",
          "text": [
            "[1.3, 454, 456, 786]\n"
          ]
        }
      ],
      "source": [
        "a = [1.3,454,456,786,2,11,435,646]\n",
        "print(a[0:4])"
      ]
    },
    {
      "cell_type": "markdown",
      "id": "b5caa225",
      "metadata": {
        "id": "b5caa225"
      },
      "source": [
        "# Выведите элемент списка с заданным индексом"
      ]
    },
    {
      "cell_type": "code",
      "execution_count": null,
      "id": "1e1c2ae5",
      "metadata": {
        "id": "1e1c2ae5",
        "outputId": "90b55aa4-dd95-4c8f-a3ec-38de552b4580"
      },
      "outputs": [
        {
          "name": "stdout",
          "output_type": "stream",
          "text": [
            "[124, 645, 756, 322, 676, 121, 12]\n",
            "756\n"
          ]
        }
      ],
      "source": [
        "a = [124,645,756,322,676,121,12]\n",
        "b = a.copy()\n",
        "el = b.pop(2)\n",
        "print(a)\n",
        "print(el)"
      ]
    },
    {
      "cell_type": "markdown",
      "id": "2c101dcd",
      "metadata": {
        "id": "2c101dcd"
      },
      "source": [
        "# Замените элемент списка с заданным индексом "
      ]
    },
    {
      "cell_type": "code",
      "execution_count": null,
      "id": "5c95ab60",
      "metadata": {
        "id": "5c95ab60",
        "outputId": "dba1a6aa-4ce9-4c8c-cb26-b2b61b07a65a"
      },
      "outputs": [
        {
          "name": "stdout",
          "output_type": "stream",
          "text": [
            "[13, 353, 4567, 98, 14, 60, 14, 53]\n",
            "[13, 54, 4567, 98, 14, 60, 14, 53]\n"
          ]
        }
      ],
      "source": [
        "a = [13,353,4567,98,14,60,14,53]\n",
        "print(a)\n",
        "del a[1]\n",
        "a.insert(1,54)\n",
        "print(a)"
      ]
    },
    {
      "cell_type": "markdown",
      "id": "c999626a",
      "metadata": {
        "id": "c999626a"
      },
      "source": [
        "# Создайте копию списка и сохраните ее в новую переменную\n",
        "\n"
      ]
    },
    {
      "cell_type": "code",
      "execution_count": null,
      "id": "2bdbda16",
      "metadata": {
        "id": "2bdbda16",
        "outputId": "40f57747-aa96-4d05-b8a8-c81118200ff5"
      },
      "outputs": [
        {
          "name": "stdout",
          "output_type": "stream",
          "text": [
            "[13.23, 4546, 5465, 67, 678678, 67]\n",
            "[13.23, 4546, 5465, 67, 678678, 67]\n"
          ]
        }
      ],
      "source": [
        "a = [13.23,4546,5465,67,678678,67]\n",
        "b = a.copy()\n",
        "print(a)\n",
        "print(b)"
      ]
    },
    {
      "cell_type": "markdown",
      "id": "83b99ac1",
      "metadata": {
        "id": "83b99ac1"
      },
      "source": [
        "# Используя цикл for выполните любую операцию с каждым элементом списка. Обязательно прокомментируйте ваши действия."
      ]
    },
    {
      "cell_type": "code",
      "execution_count": null,
      "id": "fa2e7aa4",
      "metadata": {
        "id": "fa2e7aa4",
        "outputId": "9bfc9e1c-bd99-4cb7-f2c1-a82acc3897a9"
      },
      "outputs": [
        {
          "name": "stdout",
          "output_type": "stream",
          "text": [
            "12313\n",
            "345647\n",
            "869\n",
            "234\n",
            "24\n",
            "7\n",
            "344546\n",
            "457\n"
          ]
        }
      ],
      "source": [
        "a = [12312,345646,868,233,23,6,344545,456]\n",
        "for i in a:\n",
        "    print(i+1)\n",
        "    #Выводим каждый элемент списка и добавляем ему "
      ]
    },
    {
      "cell_type": "markdown",
      "id": "edeb3528",
      "metadata": {
        "id": "edeb3528"
      },
      "source": [
        " # Работа с типом данных Tuple (кортеж)"
      ]
    },
    {
      "cell_type": "markdown",
      "id": "e4e68e27",
      "metadata": {
        "id": "e4e68e27"
      },
      "source": [
        "# Создайте кортеж чисел, выведите его срез"
      ]
    },
    {
      "cell_type": "code",
      "execution_count": null,
      "id": "a1a44a0f",
      "metadata": {
        "id": "a1a44a0f",
        "outputId": "d14eb09a-bb0c-4c6b-86d9-0463e354a263"
      },
      "outputs": [
        {
          "name": "stdout",
          "output_type": "stream",
          "text": [
            "(43, 65, 78, 789, 567)\n",
            "(43, 65, 78)\n"
          ]
        }
      ],
      "source": [
        "a = tuple([43,65,78,789,567])\n",
        "print(a)\n",
        "print (a[0:3])"
      ]
    },
    {
      "cell_type": "markdown",
      "id": "846ee9df",
      "metadata": {
        "id": "846ee9df"
      },
      "source": [
        "# Напишите, чем кортеж отличается от списка?"
      ]
    },
    {
      "cell_type": "markdown",
      "id": "3ff68a49",
      "metadata": {
        "id": "3ff68a49"
      },
      "source": [
        "Кортежи неизменяемы, а списки можно изменить \n"
      ]
    },
    {
      "cell_type": "markdown",
      "id": "b0763a5c",
      "metadata": {
        "id": "b0763a5c"
      },
      "source": [
        "# Используя приведение типа, создайте список из кортежа"
      ]
    },
    {
      "cell_type": "code",
      "execution_count": null,
      "id": "89eb2835",
      "metadata": {
        "id": "89eb2835",
        "outputId": "e3ad3972-7ae2-4992-b568-d64f0985ce68"
      },
      "outputs": [
        {
          "name": "stdout",
          "output_type": "stream",
          "text": [
            "(43, 65, 78, 789, 567)\n",
            "[43, 65, 78, 789, 567]\n",
            "[43, 65, 78, 789, 567, 'ff']\n"
          ]
        }
      ],
      "source": [
        "a = tuple([43,65,78,789,567])\n",
        "b = list(a)\n",
        "print(a)\n",
        "print(b)\n",
        "b.append(\"ff\")\n",
        "print(b)"
      ]
    },
    {
      "cell_type": "markdown",
      "id": "b1a9a07b",
      "metadata": {
        "id": "b1a9a07b"
      },
      "source": [
        "# Работа с типом данных Dictionary (словарь)"
      ]
    },
    {
      "cell_type": "markdown",
      "id": "c2de4d31",
      "metadata": {
        "id": "c2de4d31"
      },
      "source": [
        "# Создайте словарь, состоящий из нескольких элементов. В качестве ключа пусть будет номер лабораторной, а в качестве значений тема/название лабораторной."
      ]
    },
    {
      "cell_type": "code",
      "execution_count": null,
      "id": "25525d7e",
      "metadata": {
        "id": "25525d7e",
        "outputId": "fead457a-6ac1-464c-81b9-ff5ecf2455c7"
      },
      "outputs": [
        {
          "name": "stdout",
          "output_type": "stream",
          "text": [
            "{-1: 'Подготовительная работа', 0: 'Numpy and OLAP', 1: 'Pandas and etc'}\n"
          ]
        }
      ],
      "source": [
        "a = dict([(-1, 'Подготовительная работа'), (0, 'Numpy and OLAP'), (1, 'Pandas and etc')])\n",
        "print (a)"
      ]
    },
    {
      "cell_type": "markdown",
      "id": "1d35f426",
      "metadata": {
        "id": "1d35f426"
      },
      "source": [
        "# Выведите keys, values и items словаря"
      ]
    },
    {
      "cell_type": "code",
      "execution_count": null,
      "id": "11bbd75e",
      "metadata": {
        "id": "11bbd75e",
        "outputId": "0a6c7593-d04e-493b-8a8e-42dd26ecc4b6"
      },
      "outputs": [
        {
          "name": "stdout",
          "output_type": "stream",
          "text": [
            "dict_keys([-1, 0, 1])\n",
            "dict_values(['Подготовительная работа', 'Numpy and OLAP', 'Pandas and etc'])\n",
            "dict_items([(-1, 'Подготовительная работа'), (0, 'Numpy and OLAP'), (1, 'Pandas and etc')])\n"
          ]
        }
      ],
      "source": [
        "a = dict([(-1, 'Подготовительная работа'), (0, 'Numpy and OLAP'), (1, 'Pandas and etc')])\n",
        "print (a.keys())\n",
        "print (a.values())\n",
        "print (a.items())"
      ]
    },
    {
      "cell_type": "markdown",
      "id": "14720cc8",
      "metadata": {
        "id": "14720cc8"
      },
      "source": [
        "# Продемонстрируйте доступ по ключу. Например, выведите название второй лабораторной"
      ]
    },
    {
      "cell_type": "code",
      "execution_count": null,
      "id": "a993cf29",
      "metadata": {
        "id": "a993cf29",
        "outputId": "9765337e-f77c-4da2-bc55-c82e0486c155"
      },
      "outputs": [
        {
          "name": "stdout",
          "output_type": "stream",
          "text": [
            "Numpy and OLAP\n"
          ]
        }
      ],
      "source": [
        "a = dict([(-1, 'Подготовительная работа'), (0, 'Numpy and OLAP'), (1, 'Pandas and etc')])\n",
        "print (a.get(0))"
      ]
    },
    {
      "cell_type": "markdown",
      "id": "d0c9335e",
      "metadata": {
        "id": "d0c9335e"
      },
      "source": [
        "# Измените значение списка\n",
        "\n"
      ]
    },
    {
      "cell_type": "code",
      "execution_count": null,
      "id": "dd9b9478",
      "metadata": {
        "id": "dd9b9478",
        "outputId": "5e5f3328-721c-4383-a0d0-01275e94beec"
      },
      "outputs": [
        {
          "name": "stdout",
          "output_type": "stream",
          "text": [
            "{-1: 'Подготовительная работа', 0: 'Numpy and OLAP', 1: 'Pandas and etc'}\n",
            "{-1: 'Подготовительная работа', 0: 'mmmmm', 1: 'Pandas and etc'}\n"
          ]
        }
      ],
      "source": [
        "a = dict([(-1, 'Подготовительная работа'), (0, 'Numpy and OLAP'), (1, 'Pandas and etc')])\n",
        "print(a)\n",
        "a[0] = 'mmmmm'\n",
        "print(a)"
      ]
    },
    {
      "cell_type": "markdown",
      "id": "3138646f",
      "metadata": {
        "id": "3138646f"
      },
      "source": [
        "# Добавьте новый элемент (пару ключ/значение) в словарь"
      ]
    },
    {
      "cell_type": "code",
      "execution_count": null,
      "id": "a7a35db3",
      "metadata": {
        "id": "a7a35db3",
        "outputId": "51d58dd9-260b-4813-9ff8-1c101db41011"
      },
      "outputs": [
        {
          "name": "stdout",
          "output_type": "stream",
          "text": [
            "{-1: 'Подготовительная работа', 0: 'Numpy and OLAP', 1: 'Pandas and etc', 2: 'Update'}\n"
          ]
        }
      ],
      "source": [
        "a = dict([(-1, 'Подготовительная работа'), (0, 'Numpy and OLAP'), (1, 'Pandas and etc')])\n",
        "a.update([(2, 'Update')])\n",
        "print(a)"
      ]
    },
    {
      "cell_type": "markdown",
      "id": "f46a6b4c",
      "metadata": {
        "id": "f46a6b4c"
      },
      "source": [
        "# Работа с типом Set"
      ]
    },
    {
      "cell_type": "markdown",
      "id": "a0df90e0",
      "metadata": {
        "id": "a0df90e0"
      },
      "source": [
        "# Напишите различия множества, списка и кортежа"
      ]
    },
    {
      "cell_type": "markdown",
      "id": "339bf568",
      "metadata": {
        "id": "339bf568"
      },
      "source": [
        "Set - изменяемые, неупорядоченные \n",
        "List - изменяемые, упорядоченные \n",
        "Tuples - неизменяемые, упорядоченные"
      ]
    },
    {
      "cell_type": "markdown",
      "id": "bd615bbf",
      "metadata": {
        "id": "bd615bbf"
      },
      "source": [
        "#  Создайте множество двумя способами"
      ]
    },
    {
      "cell_type": "code",
      "execution_count": null,
      "id": "b35f635d",
      "metadata": {
        "id": "b35f635d",
        "outputId": "6db8e259-af22-48f1-e14b-f0caa152bbd1"
      },
      "outputs": [
        {
          "name": "stdout",
          "output_type": "stream",
          "text": [
            "{3, 34, 67, 36}\n",
            "(2, 4, 5, 6)\n"
          ]
        }
      ],
      "source": [
        "a = set([34,36,67,3])\n",
        "b = (2,4,5,6)\n",
        "print (a)\n",
        "print (b)"
      ]
    },
    {
      "cell_type": "markdown",
      "id": "525b5b23",
      "metadata": {
        "id": "525b5b23"
      },
      "source": [
        "#  Создайте список, содержащий дубликаты элементов. Создайте множество из списка. Выведите созданные список и множество. Отличается ли содержимое множества от списка? Почему?"
      ]
    },
    {
      "cell_type": "code",
      "execution_count": null,
      "id": "948b78f0",
      "metadata": {
        "id": "948b78f0",
        "outputId": "f124de2b-313d-4d5e-fd3a-43a04f5fb4d0"
      },
      "outputs": [
        {
          "name": "stdout",
          "output_type": "stream",
          "text": [
            "[5, 32, 2, 5, 2]\n",
            "{32, 2, 5}\n"
          ]
        }
      ],
      "source": [
        "a = list((5,32,2,5,2))\n",
        "b = set(a)\n",
        "print (a)\n",
        "print (b)\n",
        "# Содержимое отличается \n",
        "# Set - объект из уникалных значений "
      ]
    },
    {
      "cell_type": "markdown",
      "id": "3e4be82b",
      "metadata": {
        "id": "3e4be82b"
      },
      "source": [
        "# Создайте два множества, выведите их пересечение и объединение."
      ]
    },
    {
      "cell_type": "code",
      "execution_count": null,
      "id": "3a2ec05b",
      "metadata": {
        "id": "3a2ec05b",
        "outputId": "f46df813-f1b1-4941-c8f9-5c36375c2555"
      },
      "outputs": [
        {
          "name": "stdout",
          "output_type": "stream",
          "text": [
            "{4, 5, 6, 12, 30}\n"
          ]
        }
      ],
      "source": [
        "a = set([12,3,4,5,6,30,52])\n",
        "b = set([30,12,4,6,5,72,90])\n",
        "C = a & b\n",
        "print(C)"
      ]
    },
    {
      "cell_type": "code",
      "execution_count": null,
      "id": "b940c947",
      "metadata": {
        "id": "b940c947",
        "outputId": "7441bc52-3b52-4854-ac1f-eb55ee451587"
      },
      "outputs": [
        {
          "name": "stdout",
          "output_type": "stream",
          "text": [
            "{3, 4, 5, 6, 72, 12, 52, 90, 30}\n"
          ]
        }
      ],
      "source": [
        "a = set([12,3,4,5,6,30,52])\n",
        "b = set([30,12,4,6,5,72,90])\n",
        "c = a | b\n",
        "print (c)"
      ]
    },
    {
      "cell_type": "markdown",
      "id": "fa7537a7",
      "metadata": {
        "id": "fa7537a7"
      },
      "source": [
        "# Создание функций "
      ]
    },
    {
      "cell_type": "markdown",
      "id": "f4e57dfd",
      "metadata": {
        "id": "f4e57dfd"
      },
      "source": [
        "# Объявите функции, вычисляющие сумму, среднее, максимальное и минимальное значение списка. Продемонстрируйте их работу."
      ]
    },
    {
      "cell_type": "code",
      "execution_count": null,
      "id": "c8a3834c",
      "metadata": {
        "id": "c8a3834c",
        "outputId": "fbb90e09-189f-40ec-b91e-dadd8aa8afc1"
      },
      "outputs": [
        {
          "name": "stdout",
          "output_type": "stream",
          "text": [
            "4\n"
          ]
        }
      ],
      "source": [
        "# Сумма\n",
        "def sumM(a,b):\n",
        "    c = a + b\n",
        "    return c\n",
        "val = sumM(1,3)\n",
        "print (val)"
      ]
    },
    {
      "cell_type": "code",
      "execution_count": null,
      "id": "d9483f7d",
      "metadata": {
        "id": "d9483f7d",
        "outputId": "0ea110fa-93ae-4bf5-8d25-621866990e4d"
      },
      "outputs": [
        {
          "name": "stdout",
          "output_type": "stream",
          "text": [
            "0\n"
          ]
        }
      ],
      "source": [
        "# Среднее \n",
        "def sredn(a):\n",
        "    c=0\n",
        "    if a in a:\n",
        "        c += a\n",
        "        return (c)\n",
        "    return (c)  \n",
        "val = sredn([1,4,76,8,9,96,2])\n",
        "print(val)"
      ]
    },
    {
      "cell_type": "code",
      "execution_count": null,
      "id": "c364a18d",
      "metadata": {
        "id": "c364a18d",
        "outputId": "31378324-46df-4395-e193-9a3f7b5e60f1"
      },
      "outputs": [
        {
          "name": "stdout",
          "output_type": "stream",
          "text": [
            "887\n"
          ]
        }
      ],
      "source": [
        "# Максимум \n",
        "def Maxmymn(a):\n",
        "    c = max(a)\n",
        "    return c\n",
        "a = [123,45,887,5,1,2]\n",
        "val = Maxmymn(a)\n",
        "print (val)"
      ]
    },
    {
      "cell_type": "code",
      "execution_count": null,
      "id": "0e66400a",
      "metadata": {
        "id": "0e66400a",
        "outputId": "c28555fb-c36a-4f41-964b-a8ce37aff84a"
      },
      "outputs": [
        {
          "name": "stdout",
          "output_type": "stream",
          "text": [
            "1\n"
          ]
        }
      ],
      "source": [
        "# Минимум \n",
        "def Minmym(a):\n",
        "    c = min(a)\n",
        "    return c\n",
        "a = [123,45,887,5,1,2]\n",
        "val = Minmym(a)\n",
        "print (val)"
      ]
    },
    {
      "cell_type": "markdown",
      "id": "9e28ceac",
      "metadata": {
        "id": "9e28ceac"
      },
      "source": [
        "#  Вычислить данные статистики с помощью встроеных в питон функций (найти в документации)"
      ]
    },
    {
      "cell_type": "code",
      "execution_count": null,
      "id": "628cc766",
      "metadata": {
        "id": "628cc766",
        "outputId": "041129ea-1ee0-4e82-b2d1-8c7d9f7a63f8"
      },
      "outputs": [
        {
          "name": "stdout",
          "output_type": "stream",
          "text": [
            "20.25\n"
          ]
        }
      ],
      "source": [
        "import statistics \n",
        "a = [1,3,45,53,21,5,32,2]\n",
        "b = statistics.mean(a)\n",
        "print (b)"
      ]
    },
    {
      "cell_type": "markdown",
      "id": "68194cf2",
      "metadata": {
        "id": "68194cf2"
      },
      "source": [
        "#  Найдите и продемонстрируйте работу 15 встроенных функций питон, которые вы считаете полезными и которые еще не использовались в данной работе. Прокомментируйте каждую."
      ]
    },
    {
      "cell_type": "code",
      "execution_count": null,
      "id": "57ab0885",
      "metadata": {
        "id": "57ab0885",
        "outputId": "649c5c10-2647-4ba4-bab9-8376d9c1dd00"
      },
      "outputs": [
        {
          "name": "stdout",
          "output_type": "stream",
          "text": [
            "dfnsdf\n",
            "DFNSDF\n",
            "BBjjdfhHHKfdn\n",
            "bbjjdfhhhkfdn\n",
            "fsdfsJKHKJHKJ\n",
            "Fsdfsjkhkjhkj\n",
            "True\n",
            "True\n",
            "43\n",
            "52\n",
            "53\n",
            "44\n",
            "4.349999999\n",
            "0b1010\n",
            "['In', 'Out', '_', '_45', '_48', '__', '___', '__builtin__', '__builtins__', '__doc__', '__loader__', '__name__', '__package__', '__spec__', '_dh', '_i', '_i1', '_i10', '_i11', '_i12', '_i13', '_i14', '_i15', '_i16', '_i17', '_i18', '_i19', '_i2', '_i20', '_i21', '_i22', '_i23', '_i24', '_i25', '_i26', '_i27', '_i28', '_i29', '_i3', '_i30', '_i31', '_i32', '_i33', '_i34', '_i35', '_i36', '_i37', '_i38', '_i39', '_i4', '_i40', '_i41', '_i42', '_i43', '_i44', '_i45', '_i46', '_i47', '_i48', '_i49', '_i5', '_i50', '_i51', '_i52', '_i53', '_i54', '_i55', '_i56', '_i57', '_i58', '_i59', '_i6', '_i60', '_i61', '_i7', '_i8', '_i9', '_ih', '_ii', '_iii', '_oh', 'a', 'ages', 'b', 'c', 'exit', 'fun', 'get_ipython', 'h', 'l1', 'palindrom', 'quit', 'statistic_avg_of_list', 'statistics', 'v', 'x', 'с']\n",
            "2786837850464\n",
            "0o27\n",
            "103\n",
            "0.1429\n"
          ]
        }
      ],
      "source": [
        "#1\n",
        "a  = 'dfnsdf'\n",
        "print (a)\n",
        "print(a.upper()) #Приведение строки к верхнему регистру \n",
        "#2\n",
        "a = 'BBjjdfhHHKfdn'\n",
        "print (a)\n",
        "print (a.lower()) #Приведение строки к нижнему регистру \n",
        "#3\n",
        "a = 'fsdfsJKHKJHKJ'\n",
        "print (a)\n",
        "print (a.capitalize()) #Приведение первого символа к верхнему регистру, а остальных к нижнему\n",
        "#4\n",
        "print (bool(5)) # Проверка на равенство нулю \n",
        "#5\n",
        "a = [1,2,3,4,3,2,1]\n",
        "def palindrom(a): # Возвращает True если последовательность палиндром \n",
        "    for i, item in enumerate(a):# enumerate считает в цикле количество элементов (по одному элементу за раз)\n",
        "        if item != a[-(i+1)]:\n",
        "            return False \n",
        "    return True \n",
        "b = palindrom(a)\n",
        "print (b)\n",
        "#6 \n",
        "c = 0\n",
        "#print (input(c)) # Эта функция запрашивает у пользователя ввод, ждёт нажатия клавиши Enter, а затем возвращает набранный текст.\n",
        "# 7 # filter функция исключения элементов в объекте \n",
        "ages = [1,43,52,53,1,4,5,3,2,12,44]\n",
        "def fun(x):\n",
        "    if x <18:\n",
        "        return False\n",
        "    else:\n",
        "        return True\n",
        "v = filter (fun,ages)    \n",
        "for x in v:\n",
        "    print (x)\n",
        "# 8 \n",
        "a = -4.349999999\n",
        "print (abs(a)) # abc возвращает абсолютное значение числа \n",
        "# 9 \n",
        "a = 10\n",
        "print(bin(a)) #Преобразует целое число в двоичную строку с префиксом 0b.\n",
        "# 10 \n",
        "print(dir()) #Функция dir(), вызванная без аргумента, возвращает список имен в текущей локальной области, а вызванная с аргументом попытается вернуть список допустимых атрибутов для указанного объекта.\n",
        "#11\n",
        "a = [13,42,545,31,4234,34,]\n",
        "c = frozenset(a) # Класс frozenset() преобразует строку или любую последовательность(итерацию) в неизменяемое множество frozenset\n",
        "#del c[3]\n",
        "# 12\n",
        "print (id (c)) # Функция id() возвращает уникальный идентификатор для указанного объекта.\n",
        "#13\n",
        "a = 23\n",
        "c = oct(a)\n",
        "print (c) # Функция oct() преобразует целое число в восьмеричную строку с префиксом 0o.\n",
        "# 14\n",
        "print (ord('g')) # Функция ord() для символа x вернет число, из таблицы символов Unicode представляющее его позицию.\n",
        "# 15 \n",
        "a = 1/7\n",
        "print (round(a,4)) #Функция round() вернет число, округленное до точности после десятичной точки. "
      ]
    },
    {
      "cell_type": "markdown",
      "id": "d9e6ad9f",
      "metadata": {
        "id": "d9e6ad9f"
      },
      "source": [
        "# Знакомство с ООП в Python. Создайте класс c 2-3 свойствами и 2-3 методами. Продемонстрируйте работу с данным классом."
      ]
    },
    {
      "cell_type": "code",
      "execution_count": null,
      "id": "4e4ed116",
      "metadata": {
        "id": "4e4ed116"
      },
      "outputs": [],
      "source": [
        "class PodgotovLab:\n",
        "    sym = 0 \n",
        "    def __init__ (self, name, grade):\n",
        "        self.name = name\n",
        "        self.grade = grade\n",
        "        PodgotovLab.sym += grade\n",
        "    def journal (self):\n",
        "        print (\"Name: {} Grade: {}\".format(self.name, self.grade))\n",
        "    def symn (self):\n",
        "        print (\"sum of grades: %d\" %  PodgotovLab.sym)\n",
        "if __name__ == \"__main__\":\n",
        "    podgotovlab1 = PodgotovLab(\"Tom\", 5)\n",
        "    podgotovlab1.journal()\n",
        "    podgotovlab1.symn()\n",
        "    podgotovlab2 = PodgotovLab(\"Tony\", 5)\n",
        "    podgotovlab2.journal()\n",
        "    podgotovlab2.symn()"
      ]
    },
    {
      "cell_type": "code",
      "execution_count": null,
      "id": "c227587e",
      "metadata": {
        "id": "c227587e"
      },
      "outputs": [],
      "source": [
        "# Класс получает значения имени и оценки, выводит оценку и имя ученика и считает сумму всех оценок учеников  "
      ]
    },
    {
      "cell_type": "code",
      "execution_count": null,
      "id": "e5da67ea",
      "metadata": {
        "id": "e5da67ea"
      },
      "outputs": [],
      "source": [
        ""
      ]
    }
  ],
  "metadata": {
    "kernelspec": {
      "display_name": "Python 3 (ipykernel)",
      "language": "python",
      "name": "python3"
    },
    "language_info": {
      "codemirror_mode": {
        "name": "ipython",
        "version": 3
      },
      "file_extension": ".py",
      "mimetype": "text/x-python",
      "name": "python",
      "nbconvert_exporter": "python",
      "pygments_lexer": "ipython3",
      "version": "3.10.3"
    },
    "colab": {
      "name": "Подготовительная работа .ipynb",
      "provenance": [],
      "collapsed_sections": [
        "459442f9",
        "4bb221fb",
        "d39e524b",
        "b79ed17f",
        "21522394",
        "4c870072",
        "5e529e3d",
        "1b4613be",
        "11dca0cc",
        "3587eec5",
        "2088e657",
        "755c4081",
        "28c13796",
        "b86b5bfd",
        "c0e54096",
        "fc3a835e",
        "144bd444",
        "d5a8e659",
        "e92bcbb6",
        "e86657f0",
        "b5caa225",
        "2c101dcd",
        "c999626a",
        "83b99ac1",
        "edeb3528",
        "e4e68e27",
        "846ee9df",
        "b0763a5c",
        "b1a9a07b",
        "c2de4d31",
        "1d35f426",
        "14720cc8",
        "d0c9335e",
        "3138646f",
        "f46a6b4c",
        "a0df90e0",
        "bd615bbf",
        "525b5b23",
        "3e4be82b",
        "fa7537a7",
        "f4e57dfd",
        "9e28ceac",
        "68194cf2"
      ],
      "include_colab_link": true
    }
  },
  "nbformat": 4,
  "nbformat_minor": 5
}