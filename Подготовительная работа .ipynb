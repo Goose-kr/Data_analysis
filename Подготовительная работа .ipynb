{
 "cells": [
  {
   "cell_type": "markdown",
   "id": "440b359e",
   "metadata": {},
   "source": [
    "# Примеры целочисленного типа "
   ]
  },
  {
   "cell_type": "code",
   "execution_count": 1,
   "id": "3b421237",
   "metadata": {},
   "outputs": [
    {
     "data": {
      "text/plain": [
       "5"
      ]
     },
     "execution_count": 1,
     "metadata": {},
     "output_type": "execute_result"
    }
   ],
   "source": [
    "5 "
   ]
  },
  {
   "cell_type": "code",
   "execution_count": 2,
   "id": "146c623d",
   "metadata": {},
   "outputs": [
    {
     "data": {
      "text/plain": [
       "3435"
      ]
     },
     "execution_count": 2,
     "metadata": {},
     "output_type": "execute_result"
    }
   ],
   "source": [
    "3435"
   ]
  },
  {
   "cell_type": "markdown",
   "id": "0eb86f91",
   "metadata": {},
   "source": [
    "#  Вещественные числа "
   ]
  },
  {
   "cell_type": "code",
   "execution_count": 4,
   "id": "44a1d0dc",
   "metadata": {},
   "outputs": [
    {
     "data": {
      "text/plain": [
       "0.5"
      ]
     },
     "execution_count": 4,
     "metadata": {},
     "output_type": "execute_result"
    }
   ],
   "source": [
    "0.5"
   ]
  },
  {
   "cell_type": "code",
   "execution_count": 5,
   "id": "aa3f7953",
   "metadata": {},
   "outputs": [
    {
     "data": {
      "text/plain": [
       "1.25"
      ]
     },
     "execution_count": 5,
     "metadata": {},
     "output_type": "execute_result"
    }
   ],
   "source": [
    "1.25"
   ]
  },
  {
   "cell_type": "code",
   "execution_count": 6,
   "id": "43cb752b",
   "metadata": {},
   "outputs": [
    {
     "data": {
      "text/plain": [
       "34.65"
      ]
     },
     "execution_count": 6,
     "metadata": {},
     "output_type": "execute_result"
    }
   ],
   "source": [
    "34.65"
   ]
  },
  {
   "cell_type": "markdown",
   "id": "2ffb5890",
   "metadata": {},
   "source": [
    "# Строки  "
   ]
  },
  {
   "cell_type": "code",
   "execution_count": 7,
   "id": "fd5aea34",
   "metadata": {},
   "outputs": [],
   "source": [
    "primer = \"Строка\""
   ]
  },
  {
   "cell_type": "code",
   "execution_count": 8,
   "id": "dc0df392",
   "metadata": {},
   "outputs": [
    {
     "name": "stdout",
     "output_type": "stream",
     "text": [
      "Строка\n"
     ]
    }
   ],
   "source": [
    "print (primer)"
   ]
  },
  {
   "cell_type": "markdown",
   "id": "ca217474",
   "metadata": {},
   "source": [
    "# Примеры основных математических операций  "
   ]
  },
  {
   "cell_type": "markdown",
   "id": "0c56fe52",
   "metadata": {},
   "source": [
    "# Сложение "
   ]
  },
  {
   "cell_type": "code",
   "execution_count": 11,
   "id": "f1ff58ca",
   "metadata": {},
   "outputs": [
    {
     "name": "stdout",
     "output_type": "stream",
     "text": [
      "9.5\n"
     ]
    }
   ],
   "source": [
    "a = 4.5\n",
    "b = 5\n",
    "c = a+b\n",
    "print(c)"
   ]
  },
  {
   "cell_type": "markdown",
   "id": "9a315ac0",
   "metadata": {},
   "source": [
    "# Вычитание "
   ]
  },
  {
   "cell_type": "code",
   "execution_count": 12,
   "id": "59ecfaf7",
   "metadata": {},
   "outputs": [
    {
     "name": "stdout",
     "output_type": "stream",
     "text": [
      "-13\n"
     ]
    }
   ],
   "source": [
    "a = 10\n",
    "b = 23\n",
    "c = a-b\n",
    "print(c)"
   ]
  },
  {
   "cell_type": "markdown",
   "id": "459442f9",
   "metadata": {},
   "source": [
    "# Умножение  "
   ]
  },
  {
   "cell_type": "code",
   "execution_count": 13,
   "id": "49646341",
   "metadata": {},
   "outputs": [
    {
     "name": "stdout",
     "output_type": "stream",
     "text": [
      "42\n"
     ]
    }
   ],
   "source": [
    "a = 6\n",
    "b = 7 \n",
    "c = a*b\n",
    "print(c)"
   ]
  },
  {
   "cell_type": "markdown",
   "id": "4bb221fb",
   "metadata": {},
   "source": [
    "# Возведение в степень "
   ]
  },
  {
   "cell_type": "code",
   "execution_count": 16,
   "id": "7c7e7d64",
   "metadata": {},
   "outputs": [
    {
     "name": "stdout",
     "output_type": "stream",
     "text": [
      "160000\n"
     ]
    }
   ],
   "source": [
    "a = 20 ** 4\n",
    "print(a)"
   ]
  },
  {
   "cell_type": "code",
   "execution_count": 17,
   "id": "7d2376e9",
   "metadata": {},
   "outputs": [
    {
     "name": "stdout",
     "output_type": "stream",
     "text": [
      "900\n"
     ]
    }
   ],
   "source": [
    "a = 30\n",
    "b = 2\n",
    "c = pow (a,b)\n",
    "print(c)"
   ]
  },
  {
   "cell_type": "markdown",
   "id": "d39e524b",
   "metadata": {},
   "source": [
    "# Деление "
   ]
  },
  {
   "cell_type": "code",
   "execution_count": 15,
   "id": "4a78fb03",
   "metadata": {},
   "outputs": [
    {
     "name": "stdout",
     "output_type": "stream",
     "text": [
      "4.0\n"
     ]
    }
   ],
   "source": [
    "a = 5 \n",
    "b = 20 \n",
    "c = b/a\n",
    "print(c)"
   ]
  },
  {
   "cell_type": "markdown",
   "id": "b79ed17f",
   "metadata": {},
   "source": [
    "# Целочисленное деление "
   ]
  },
  {
   "cell_type": "code",
   "execution_count": 18,
   "id": "1155b3e2",
   "metadata": {},
   "outputs": [
    {
     "name": "stdout",
     "output_type": "stream",
     "text": [
      "2\n"
     ]
    }
   ],
   "source": [
    "a = 9\n",
    "b = 4 \n",
    "c = a // b\n",
    "print(c)"
   ]
  },
  {
   "cell_type": "markdown",
   "id": "21522394",
   "metadata": {},
   "source": [
    "# Остаток от деления "
   ]
  },
  {
   "cell_type": "code",
   "execution_count": 20,
   "id": "d63a1896",
   "metadata": {},
   "outputs": [
    {
     "name": "stdout",
     "output_type": "stream",
     "text": [
      "1\n"
     ]
    }
   ],
   "source": [
    "a = 9\n",
    "b = 4\n",
    "c = a % b\n",
    "print(c)"
   ]
  },
  {
   "cell_type": "markdown",
   "id": "4c870072",
   "metadata": {},
   "source": [
    "# Конкатенация строк \n"
   ]
  },
  {
   "cell_type": "code",
   "execution_count": 21,
   "id": "11ff9b64",
   "metadata": {},
   "outputs": [
    {
     "name": "stdout",
     "output_type": "stream",
     "text": [
      "Анализ Данных.\n"
     ]
    }
   ],
   "source": [
    "a = 'Анализ '\n",
    "b = 'Данных.'\n",
    "c = a + b\n",
    "print(c)"
   ]
  },
  {
   "cell_type": "markdown",
   "id": "5e529e3d",
   "metadata": {},
   "source": [
    "# Репликация строк "
   ]
  },
  {
   "cell_type": "code",
   "execution_count": 23,
   "id": "4a10696f",
   "metadata": {},
   "outputs": [
    {
     "name": "stdout",
     "output_type": "stream",
     "text": [
      "aaa\n"
     ]
    }
   ],
   "source": [
    "a =  'Анализ'\n",
    "b = 'a' * 3\n",
    "print (b)"
   ]
  },
  {
   "cell_type": "markdown",
   "id": "1b4613be",
   "metadata": {},
   "source": [
    "# Конкатенация строки и числа "
   ]
  },
  {
   "cell_type": "code",
   "execution_count": 36,
   "id": "ea3fd317",
   "metadata": {},
   "outputs": [
    {
     "name": "stdout",
     "output_type": "stream",
     "text": [
      "Analiz7\n",
      "<class 'str'>\n"
     ]
    }
   ],
   "source": [
    "a = 'Analiz'\n",
    "b = 7\n",
    "c = a + str(b)\n",
    "print(c)\n",
    "print(type(c))"
   ]
  },
  {
   "cell_type": "markdown",
   "id": "11dca0cc",
   "metadata": {},
   "source": [
    "# Длина строковой переменной "
   ]
  },
  {
   "cell_type": "code",
   "execution_count": 39,
   "id": "e0d2d3fe",
   "metadata": {},
   "outputs": [
    {
     "name": "stdout",
     "output_type": "stream",
     "text": [
      "25\n"
     ]
    }
   ],
   "source": [
    "a = 'Длина строковой пременной'\n",
    "print(len(a))"
   ]
  },
  {
   "cell_type": "markdown",
   "id": "3587eec5",
   "metadata": {},
   "source": [
    "# Работа с List "
   ]
  },
  {
   "cell_type": "markdown",
   "id": "2088e657",
   "metadata": {},
   "source": [
    "# Создайте список с числовыми данными одним способом и список строк другим способом"
   ]
  },
  {
   "cell_type": "code",
   "execution_count": 40,
   "id": "4c2709ab",
   "metadata": {},
   "outputs": [
    {
     "name": "stdout",
     "output_type": "stream",
     "text": [
      "[0, 1, 2, 3, 4]\n"
     ]
    }
   ],
   "source": [
    "a = list(range(5))\n",
    "print(a)"
   ]
  },
  {
   "cell_type": "code",
   "execution_count": 41,
   "id": "4af23670",
   "metadata": {},
   "outputs": [
    {
     "name": "stdout",
     "output_type": "stream",
     "text": [
      "['Анализ', 'danuh']\n"
     ]
    }
   ],
   "source": [
    "a = ['Анализ', 'danuh']\n",
    "print(a)"
   ]
  },
  {
   "cell_type": "markdown",
   "id": "755c4081",
   "metadata": {},
   "source": [
    "# Выполните конкатенацию созданных списков и сохраните результат в новую переменную"
   ]
  },
  {
   "cell_type": "code",
   "execution_count": 42,
   "id": "537fd950",
   "metadata": {},
   "outputs": [
    {
     "name": "stdout",
     "output_type": "stream",
     "text": [
      "[0, 1, 2, 3, 4, 'Анализ', 'danuh']\n"
     ]
    }
   ],
   "source": [
    "a = list(range(5))\n",
    "b = ['Анализ', 'danuh']\n",
    "c = a + b\n",
    "print(c)"
   ]
  },
  {
   "cell_type": "markdown",
   "id": "28c13796",
   "metadata": {},
   "source": [
    "# Добавьте новый элемент в конец любого списка"
   ]
  },
  {
   "cell_type": "code",
   "execution_count": 43,
   "id": "dc977aad",
   "metadata": {},
   "outputs": [
    {
     "name": "stdout",
     "output_type": "stream",
     "text": [
      "[0, 1, 2, 3, 4, 5]\n",
      "[0, 1, 2, 3, 4, 5, 'f']\n"
     ]
    }
   ],
   "source": [
    "a = list(range(6))\n",
    "print(a)\n",
    "a.append('f')\n",
    "print(a)"
   ]
  },
  {
   "cell_type": "markdown",
   "id": "b86b5bfd",
   "metadata": {},
   "source": [
    "# Добавьте новый элемент в список с указанием индекса места вставки"
   ]
  },
  {
   "cell_type": "code",
   "execution_count": 44,
   "id": "5088f06f",
   "metadata": {},
   "outputs": [
    {
     "name": "stdout",
     "output_type": "stream",
     "text": [
      "[0, 1, 2, 3, 4, 5, 6]\n",
      "[0, 1, 2, 3, 'bb', 4, 5, 6]\n"
     ]
    }
   ],
   "source": [
    "a = list(range(7))\n",
    "print(a)\n",
    "a.insert(4,\"bb\")\n",
    "print(a)"
   ]
  },
  {
   "cell_type": "markdown",
   "id": "c0e54096",
   "metadata": {},
   "source": [
    "# Удалите элемент, равный заданному значению, из списка"
   ]
  },
  {
   "cell_type": "code",
   "execution_count": 45,
   "id": "b640fef8",
   "metadata": {},
   "outputs": [
    {
     "name": "stdout",
     "output_type": "stream",
     "text": [
      "[0, 1, 2, 3, 4]\n",
      "[0, 1, 2, 4]\n"
     ]
    }
   ],
   "source": [
    "a = list(range(5))\n",
    "print(a)\n",
    "a.remove(3)\n",
    "print(a)"
   ]
  },
  {
   "cell_type": "markdown",
   "id": "fc3a835e",
   "metadata": {},
   "source": [
    "# Удалите последний элемент из списка"
   ]
  },
  {
   "cell_type": "code",
   "execution_count": 48,
   "id": "0185bc9d",
   "metadata": {},
   "outputs": [
    {
     "name": "stdout",
     "output_type": "stream",
     "text": [
      "[0, 1, 2, 3, 4, 5, 6]\n",
      "[0, 1, 2, 3, 4, 5]\n"
     ]
    }
   ],
   "source": [
    "a = list(range(7))\n",
    "print(a)\n",
    "list.pop(a)\n",
    "print(a)"
   ]
  },
  {
   "cell_type": "markdown",
   "id": "144bd444",
   "metadata": {},
   "source": [
    "# Удалите элемент по индексу"
   ]
  },
  {
   "cell_type": "code",
   "execution_count": 54,
   "id": "98272e6f",
   "metadata": {},
   "outputs": [
    {
     "name": "stdout",
     "output_type": "stream",
     "text": [
      "[0, 1, 2, 3, 4, 5, 6, 7]\n",
      "[0, 1, 3, 4, 5, 6, 7]\n"
     ]
    }
   ],
   "source": [
    "a = list(range(8))\n",
    "print(a)\n",
    "del a[2]\n",
    "print(a)"
   ]
  },
  {
   "cell_type": "markdown",
   "id": "d5a8e659",
   "metadata": {},
   "source": [
    "# Создайте вложенный список (список, элементами котрого являются списки)"
   ]
  },
  {
   "cell_type": "code",
   "execution_count": 59,
   "id": "eab1c19d",
   "metadata": {},
   "outputs": [
    {
     "name": "stdout",
     "output_type": "stream",
     "text": [
      "[['fjghd', 'fdghdf', 'popkp,kl'], ['fdsjfs', 'djsfls', 'lfdgk', 'bvn']]\n"
     ]
    }
   ],
   "source": [
    "a = ['fjghd','fdghdf','popkp,kl']\n",
    "b = ['fdsjfs','djsfls','lfdgk','bvn']\n",
    "c = [a,b]\n",
    "print(c)"
   ]
  },
  {
   "cell_type": "markdown",
   "id": "e92bcbb6",
   "metadata": {},
   "source": [
    "# Создайте список из чисел и отсортируйте его по убыванию и по возрастанию, напечатайте результат"
   ]
  },
  {
   "cell_type": "code",
   "execution_count": 63,
   "id": "aca81f48",
   "metadata": {},
   "outputs": [
    {
     "name": "stdout",
     "output_type": "stream",
     "text": [
      "[1, 2, 6, 14, 65, 89, 434, 467, 976]\n",
      "[976, 467, 434, 89, 65, 14, 6, 2, 1]\n"
     ]
    }
   ],
   "source": [
    "a = [434,467,2,1,65,89,976,14,6]\n",
    "a.sort()\n",
    "print(a)\n",
    "a.sort(reverse = True)\n",
    "print(a)"
   ]
  },
  {
   "cell_type": "markdown",
   "id": "e86657f0",
   "metadata": {},
   "source": [
    "# Выведите срез списка по индексам"
   ]
  },
  {
   "cell_type": "code",
   "execution_count": 65,
   "id": "b5ef60b9",
   "metadata": {},
   "outputs": [
    {
     "name": "stdout",
     "output_type": "stream",
     "text": [
      "[1.3, 454, 456, 786]\n"
     ]
    }
   ],
   "source": [
    "a = [1.3,454,456,786,2,11,435,646]\n",
    "print(a[0:4])"
   ]
  },
  {
   "cell_type": "markdown",
   "id": "b5caa225",
   "metadata": {},
   "source": [
    "# Выведите элемент списка с заданным индексом"
   ]
  },
  {
   "cell_type": "code",
   "execution_count": 66,
   "id": "1e1c2ae5",
   "metadata": {},
   "outputs": [
    {
     "name": "stdout",
     "output_type": "stream",
     "text": [
      "[124, 645, 756, 322, 676, 121, 12]\n",
      "756\n"
     ]
    }
   ],
   "source": [
    "a = [124,645,756,322,676,121,12]\n",
    "b = a.copy()\n",
    "el = b.pop(2)\n",
    "print(a)\n",
    "print(el)"
   ]
  },
  {
   "cell_type": "markdown",
   "id": "2c101dcd",
   "metadata": {},
   "source": [
    "# Замените элемент списка с заданным индексом "
   ]
  },
  {
   "cell_type": "code",
   "execution_count": 68,
   "id": "5c95ab60",
   "metadata": {},
   "outputs": [
    {
     "name": "stdout",
     "output_type": "stream",
     "text": [
      "[13, 353, 4567, 98, 14, 60, 14, 53]\n",
      "[13, 54, 4567, 98, 14, 60, 14, 53]\n"
     ]
    }
   ],
   "source": [
    "a = [13,353,4567,98,14,60,14,53]\n",
    "print(a)\n",
    "del a[1]\n",
    "a.insert(1,54)\n",
    "print(a)"
   ]
  },
  {
   "cell_type": "markdown",
   "id": "c999626a",
   "metadata": {},
   "source": [
    "# Создайте копию списка и сохраните ее в новую переменную\n",
    "\n"
   ]
  },
  {
   "cell_type": "code",
   "execution_count": 78,
   "id": "2bdbda16",
   "metadata": {},
   "outputs": [
    {
     "name": "stdout",
     "output_type": "stream",
     "text": [
      "[13.23, 4546, 5465, 67, 678678, 67]\n",
      "[13.23, 4546, 5465, 67, 678678, 67]\n"
     ]
    }
   ],
   "source": [
    "a = [13.23,4546,5465,67,678678,67]\n",
    "b = a.copy()\n",
    "print(a)\n",
    "print(b)"
   ]
  },
  {
   "cell_type": "markdown",
   "id": "83b99ac1",
   "metadata": {},
   "source": [
    "# Используя цикл for выполните любую операцию с каждым элементом списка. Обязательно прокомментируйте ваши действия."
   ]
  },
  {
   "cell_type": "code",
   "execution_count": 77,
   "id": "fa2e7aa4",
   "metadata": {},
   "outputs": [
    {
     "name": "stdout",
     "output_type": "stream",
     "text": [
      "12313\n",
      "345647\n",
      "869\n",
      "234\n",
      "24\n",
      "7\n",
      "344546\n",
      "457\n"
     ]
    }
   ],
   "source": [
    "a = [12312,345646,868,233,23,6,344545,456]\n",
    "for i in a:\n",
    "    print(i+1)\n",
    "    #Выводим каждый элемент списка и добавляем ему "
   ]
  },
  {
   "cell_type": "markdown",
   "id": "edeb3528",
   "metadata": {},
   "source": [
    " # Работа с типом данных Tuple (кортеж)"
   ]
  },
  {
   "cell_type": "markdown",
   "id": "e4e68e27",
   "metadata": {},
   "source": [
    "# Создайте кортеж чисел, выведите его срез"
   ]
  },
  {
   "cell_type": "code",
   "execution_count": 79,
   "id": "a1a44a0f",
   "metadata": {},
   "outputs": [
    {
     "name": "stdout",
     "output_type": "stream",
     "text": [
      "(43, 65, 78, 789, 567)\n",
      "(43, 65, 78)\n"
     ]
    }
   ],
   "source": [
    "a = tuple([43,65,78,789,567])\n",
    "print(a)\n",
    "print (a[0:3])"
   ]
  },
  {
   "cell_type": "markdown",
   "id": "846ee9df",
   "metadata": {},
   "source": [
    "# Напишите, чем кортеж отличается от списка?"
   ]
  },
  {
   "cell_type": "markdown",
   "id": "3ff68a49",
   "metadata": {},
   "source": [
    "Кортежи неизменяемы, а списки можно изменить \n"
   ]
  },
  {
   "cell_type": "markdown",
   "id": "b0763a5c",
   "metadata": {},
   "source": [
    "# Используя приведение типа, создайте список из кортежа"
   ]
  },
  {
   "cell_type": "code",
   "execution_count": 85,
   "id": "89eb2835",
   "metadata": {},
   "outputs": [
    {
     "name": "stdout",
     "output_type": "stream",
     "text": [
      "(43, 65, 78, 789, 567)\n",
      "[43, 65, 78, 789, 567]\n",
      "[43, 65, 78, 789, 567, 'ff']\n"
     ]
    }
   ],
   "source": [
    "a = tuple([43,65,78,789,567])\n",
    "b = list(a)\n",
    "print(a)\n",
    "print(b)\n",
    "b.append(\"ff\")\n",
    "print(b)"
   ]
  },
  {
   "cell_type": "markdown",
   "id": "b1a9a07b",
   "metadata": {},
   "source": [
    "# Работа с типом данных Dictionary (словарь)"
   ]
  },
  {
   "cell_type": "markdown",
   "id": "c2de4d31",
   "metadata": {},
   "source": [
    "# Создайте словарь, состоящий из нескольких элементов. В качестве ключа пусть будет номер лабораторной, а в качестве значений тема/название лабораторной."
   ]
  },
  {
   "cell_type": "code",
   "execution_count": 2,
   "id": "25525d7e",
   "metadata": {},
   "outputs": [
    {
     "name": "stdout",
     "output_type": "stream",
     "text": [
      "{-1: 'Подготовительная работа', 0: 'Numpy and OLAP', 1: 'Pandas and etc'}\n"
     ]
    }
   ],
   "source": [
    "a = dict([(-1, 'Подготовительная работа'), (0, 'Numpy and OLAP'), (1, 'Pandas and etc')])\n",
    "print (a)"
   ]
  },
  {
   "cell_type": "markdown",
   "id": "1d35f426",
   "metadata": {},
   "source": [
    "# Выведите keys, values и items словаря"
   ]
  },
  {
   "cell_type": "code",
   "execution_count": 6,
   "id": "11bbd75e",
   "metadata": {},
   "outputs": [
    {
     "name": "stdout",
     "output_type": "stream",
     "text": [
      "dict_keys([-1, 0, 1])\n",
      "dict_values(['Подготовительная работа', 'Numpy and OLAP', 'Pandas and etc'])\n",
      "dict_items([(-1, 'Подготовительная работа'), (0, 'Numpy and OLAP'), (1, 'Pandas and etc')])\n"
     ]
    }
   ],
   "source": [
    "a = dict([(-1, 'Подготовительная работа'), (0, 'Numpy and OLAP'), (1, 'Pandas and etc')])\n",
    "print (a.keys())\n",
    "print (a.values())\n",
    "print (a.items())"
   ]
  },
  {
   "cell_type": "markdown",
   "id": "14720cc8",
   "metadata": {},
   "source": [
    "# Продемонстрируйте доступ по ключу. Например, выведите название второй лабораторной"
   ]
  },
  {
   "cell_type": "code",
   "execution_count": 7,
   "id": "a993cf29",
   "metadata": {},
   "outputs": [
    {
     "name": "stdout",
     "output_type": "stream",
     "text": [
      "Numpy and OLAP\n"
     ]
    }
   ],
   "source": [
    "a = dict([(-1, 'Подготовительная работа'), (0, 'Numpy and OLAP'), (1, 'Pandas and etc')])\n",
    "print (a.get(0))"
   ]
  },
  {
   "cell_type": "markdown",
   "id": "d0c9335e",
   "metadata": {},
   "source": [
    "# Измените значение списка\n",
    "\n"
   ]
  },
  {
   "cell_type": "code",
   "execution_count": 8,
   "id": "dd9b9478",
   "metadata": {},
   "outputs": [
    {
     "name": "stdout",
     "output_type": "stream",
     "text": [
      "{-1: 'Подготовительная работа', 0: 'Numpy and OLAP', 1: 'Pandas and etc'}\n",
      "{-1: 'Подготовительная работа', 0: 'mmmmm', 1: 'Pandas and etc'}\n"
     ]
    }
   ],
   "source": [
    "a = dict([(-1, 'Подготовительная работа'), (0, 'Numpy and OLAP'), (1, 'Pandas and etc')])\n",
    "print(a)\n",
    "a[0] = 'mmmmm'\n",
    "print(a)"
   ]
  },
  {
   "cell_type": "markdown",
   "id": "3138646f",
   "metadata": {},
   "source": [
    "# Добавьте новый элемент (пару ключ/значение) в словарь"
   ]
  },
  {
   "cell_type": "code",
   "execution_count": 10,
   "id": "a7a35db3",
   "metadata": {},
   "outputs": [
    {
     "name": "stdout",
     "output_type": "stream",
     "text": [
      "{-1: 'Подготовительная работа', 0: 'Numpy and OLAP', 1: 'Pandas and etc', 2: 'Update'}\n"
     ]
    }
   ],
   "source": [
    "a = dict([(-1, 'Подготовительная работа'), (0, 'Numpy and OLAP'), (1, 'Pandas and etc')])\n",
    "a.update([(2, 'Update')])\n",
    "print(a)"
   ]
  },
  {
   "cell_type": "markdown",
   "id": "f46a6b4c",
   "metadata": {},
   "source": [
    "# Работа с типом Set"
   ]
  },
  {
   "cell_type": "markdown",
   "id": "a0df90e0",
   "metadata": {},
   "source": [
    "# Напишите различия множества, списка и кортежа"
   ]
  },
  {
   "cell_type": "markdown",
   "id": "339bf568",
   "metadata": {},
   "source": [
    "Set - изменяемые, неупорядоченные \n",
    "List - изменяемые, упорядоченные \n",
    "Tuples - неизменяемые, упорядоченные"
   ]
  },
  {
   "cell_type": "markdown",
   "id": "bd615bbf",
   "metadata": {},
   "source": [
    "#  Создайте множество двумя способами"
   ]
  },
  {
   "cell_type": "code",
   "execution_count": 18,
   "id": "b35f635d",
   "metadata": {},
   "outputs": [
    {
     "name": "stdout",
     "output_type": "stream",
     "text": [
      "{3, 34, 67, 36}\n",
      "(2, 4, 5, 6)\n"
     ]
    }
   ],
   "source": [
    "a = set([34,36,67,3])\n",
    "b = (2,4,5,6)\n",
    "print (a)\n",
    "print (b)"
   ]
  },
  {
   "cell_type": "markdown",
   "id": "525b5b23",
   "metadata": {},
   "source": [
    "#  Создайте список, содержащий дубликаты элементов. Создайте множество из списка. Выведите созданные список и множество. Отличается ли содержимое множества от списка? Почему?"
   ]
  },
  {
   "cell_type": "code",
   "execution_count": 21,
   "id": "948b78f0",
   "metadata": {},
   "outputs": [
    {
     "name": "stdout",
     "output_type": "stream",
     "text": [
      "[5, 32, 2, 5, 2]\n",
      "{32, 2, 5}\n"
     ]
    }
   ],
   "source": [
    "a = list((5,32,2,5,2))\n",
    "b = set(a)\n",
    "print (a)\n",
    "print (b)\n",
    "# Содержимое отличается \n",
    "# Set - объект из уникалных значений "
   ]
  },
  {
   "cell_type": "markdown",
   "id": "3e4be82b",
   "metadata": {},
   "source": [
    "# Создайте два множества, выведите их пересечение и объединение."
   ]
  },
  {
   "cell_type": "code",
   "execution_count": 25,
   "id": "3a2ec05b",
   "metadata": {},
   "outputs": [
    {
     "name": "stdout",
     "output_type": "stream",
     "text": [
      "{4, 5, 6, 12, 30}\n"
     ]
    }
   ],
   "source": [
    "a = set([12,3,4,5,6,30,52])\n",
    "b = set([30,12,4,6,5,72,90])\n",
    "C = a & b\n",
    "print(C)"
   ]
  },
  {
   "cell_type": "code",
   "execution_count": 27,
   "id": "b940c947",
   "metadata": {},
   "outputs": [
    {
     "name": "stdout",
     "output_type": "stream",
     "text": [
      "{3, 4, 5, 6, 72, 12, 52, 90, 30}\n"
     ]
    }
   ],
   "source": [
    "a = set([12,3,4,5,6,30,52])\n",
    "b = set([30,12,4,6,5,72,90])\n",
    "c = a | b\n",
    "print (c)"
   ]
  },
  {
   "cell_type": "markdown",
   "id": "fa7537a7",
   "metadata": {},
   "source": [
    "# Создание функций "
   ]
  },
  {
   "cell_type": "markdown",
   "id": "f4e57dfd",
   "metadata": {},
   "source": [
    "# Объявите функции, вычисляющие сумму, среднее, максимальное и минимальное значение списка. Продемонстрируйте их работу."
   ]
  },
  {
   "cell_type": "code",
   "execution_count": 86,
   "id": "c8a3834c",
   "metadata": {},
   "outputs": [
    {
     "name": "stdout",
     "output_type": "stream",
     "text": [
      "4\n"
     ]
    }
   ],
   "source": [
    "# Сумма\n",
    "def sumM(a,b):\n",
    "    c = a + b\n",
    "    return c\n",
    "val = sumM(1,3)\n",
    "print (val)"
   ]
  },
  {
   "cell_type": "code",
   "execution_count": 85,
   "id": "d9483f7d",
   "metadata": {},
   "outputs": [
    {
     "name": "stdout",
     "output_type": "stream",
     "text": [
      "0\n"
     ]
    }
   ],
   "source": [
    "# Среднее \n",
    "def sredn(a):\n",
    "    c=0\n",
    "    if a in a:\n",
    "        c += a\n",
    "        return (c)\n",
    "    return (c)  \n",
    "val = sredn([1,4,76,8,9,96,2])\n",
    "print(val)"
   ]
  },
  {
   "cell_type": "code",
   "execution_count": 82,
   "id": "c364a18d",
   "metadata": {},
   "outputs": [
    {
     "name": "stdout",
     "output_type": "stream",
     "text": [
      "887\n"
     ]
    }
   ],
   "source": [
    "# Максимум \n",
    "def Maxmymn(a):\n",
    "    c = max(a)\n",
    "    return c\n",
    "a = [123,45,887,5,1,2]\n",
    "val = Maxmymn(a)\n",
    "print (val)"
   ]
  },
  {
   "cell_type": "code",
   "execution_count": 83,
   "id": "0e66400a",
   "metadata": {},
   "outputs": [
    {
     "name": "stdout",
     "output_type": "stream",
     "text": [
      "1\n"
     ]
    }
   ],
   "source": [
    "# Минимум \n",
    "def Minmym(a):\n",
    "    c = min(a)\n",
    "    return c\n",
    "a = [123,45,887,5,1,2]\n",
    "val = Minmym(a)\n",
    "print (val)"
   ]
  },
  {
   "cell_type": "markdown",
   "id": "9e28ceac",
   "metadata": {},
   "source": [
    "#  Вычислить данные статистики с помощью встроеных в питон функций (найти в документации)"
   ]
  },
  {
   "cell_type": "code",
   "execution_count": 1,
   "id": "628cc766",
   "metadata": {},
   "outputs": [
    {
     "name": "stdout",
     "output_type": "stream",
     "text": [
      "20.25\n"
     ]
    }
   ],
   "source": [
    "import statistics \n",
    "a = [1,3,45,53,21,5,32,2]\n",
    "b = statistics.mean(a)\n",
    "print (b)"
   ]
  },
  {
   "cell_type": "markdown",
   "id": "68194cf2",
   "metadata": {},
   "source": [
    "#  Найдите и продемонстрируйте работу 15 встроенных функций питон, которые вы считаете полезными и которые еще не использовались в данной работе. Прокомментируйте каждую."
   ]
  },
  {
   "cell_type": "code",
   "execution_count": 61,
   "id": "57ab0885",
   "metadata": {},
   "outputs": [
    {
     "name": "stdout",
     "output_type": "stream",
     "text": [
      "dfnsdf\n",
      "DFNSDF\n",
      "BBjjdfhHHKfdn\n",
      "bbjjdfhhhkfdn\n",
      "fsdfsJKHKJHKJ\n",
      "Fsdfsjkhkjhkj\n",
      "True\n",
      "True\n",
      "43\n",
      "52\n",
      "53\n",
      "44\n",
      "4.349999999\n",
      "0b1010\n",
      "['In', 'Out', '_', '_45', '_48', '__', '___', '__builtin__', '__builtins__', '__doc__', '__loader__', '__name__', '__package__', '__spec__', '_dh', '_i', '_i1', '_i10', '_i11', '_i12', '_i13', '_i14', '_i15', '_i16', '_i17', '_i18', '_i19', '_i2', '_i20', '_i21', '_i22', '_i23', '_i24', '_i25', '_i26', '_i27', '_i28', '_i29', '_i3', '_i30', '_i31', '_i32', '_i33', '_i34', '_i35', '_i36', '_i37', '_i38', '_i39', '_i4', '_i40', '_i41', '_i42', '_i43', '_i44', '_i45', '_i46', '_i47', '_i48', '_i49', '_i5', '_i50', '_i51', '_i52', '_i53', '_i54', '_i55', '_i56', '_i57', '_i58', '_i59', '_i6', '_i60', '_i61', '_i7', '_i8', '_i9', '_ih', '_ii', '_iii', '_oh', 'a', 'ages', 'b', 'c', 'exit', 'fun', 'get_ipython', 'h', 'l1', 'palindrom', 'quit', 'statistic_avg_of_list', 'statistics', 'v', 'x', 'с']\n",
      "2786837850464\n",
      "0o27\n",
      "103\n",
      "0.1429\n"
     ]
    }
   ],
   "source": [
    "#1\n",
    "a  = 'dfnsdf'\n",
    "print (a)\n",
    "print(a.upper()) #Приведение строки к верхнему регистру \n",
    "#2\n",
    "a = 'BBjjdfhHHKfdn'\n",
    "print (a)\n",
    "print (a.lower()) #Приведение строки к нижнему регистру \n",
    "#3\n",
    "a = 'fsdfsJKHKJHKJ'\n",
    "print (a)\n",
    "print (a.capitalize()) #Приведение первого символа к верхнему регистру, а остальных к нижнему\n",
    "#4\n",
    "print (bool(5)) # Проверка на равенство нулю \n",
    "#5\n",
    "a = [1,2,3,4,3,2,1]\n",
    "def palindrom(a): # Возвращает True если последовательность палиндром \n",
    "    for i, item in enumerate(a):# enumerate считает в цикле количество элементов (по одному элементу за раз)\n",
    "        if item != a[-(i+1)]:\n",
    "            return False \n",
    "    return True \n",
    "b = palindrom(a)\n",
    "print (b)\n",
    "#6 \n",
    "c = 0\n",
    "#print (input(c)) # Эта функция запрашивает у пользователя ввод, ждёт нажатия клавиши Enter, а затем возвращает набранный текст.\n",
    "# 7 # filter функция исключения элементов в объекте \n",
    "ages = [1,43,52,53,1,4,5,3,2,12,44]\n",
    "def fun(x):\n",
    "    if x <18:\n",
    "        return False\n",
    "    else:\n",
    "        return True\n",
    "v = filter (fun,ages)    \n",
    "for x in v:\n",
    "    print (x)\n",
    "# 8 \n",
    "a = -4.349999999\n",
    "print (abs(a)) # abc возвращает абсолютное значение числа \n",
    "# 9 \n",
    "a = 10\n",
    "print(bin(a)) #Преобразует целое число в двоичную строку с префиксом 0b.\n",
    "# 10 \n",
    "print(dir()) #Функция dir(), вызванная без аргумента, возвращает список имен в текущей локальной области, а вызванная с аргументом попытается вернуть список допустимых атрибутов для указанного объекта.\n",
    "#11\n",
    "a = [13,42,545,31,4234,34,]\n",
    "c = frozenset(a) # Класс frozenset() преобразует строку или любую последовательность(итерацию) в неизменяемое множество frozenset\n",
    "#del c[3]\n",
    "# 12\n",
    "print (id (c)) # Функция id() возвращает уникальный идентификатор для указанного объекта.\n",
    "#13\n",
    "a = 23\n",
    "c = oct(a)\n",
    "print (c) # Функция oct() преобразует целое число в восьмеричную строку с префиксом 0o.\n",
    "# 14\n",
    "print (ord('g')) # Функция ord() для символа x вернет число, из таблицы символов Unicode представляющее его позицию.\n",
    "# 15 \n",
    "a = 1/7\n",
    "print (round(a,4)) #Функция round() вернет число, округленное до точности после десятичной точки. "
   ]
  },
  {
   "cell_type": "markdown",
   "id": "d9e6ad9f",
   "metadata": {},
   "source": [
    "# Знакомство с ООП в Python. Создайте класс c 2-3 свойствами и 2-3 методами. Продемонстрируйте работу с данным классом."
   ]
  },
  {
   "cell_type": "code",
   "execution_count": 79,
   "id": "4e4ed116",
   "metadata": {},
   "outputs": [
    {
     "name": "stdout",
     "output_type": "stream",
     "text": [
      "Name: Tom Grade: 5\n",
      "sum of grades: 5\n",
      "Name: Tony Grade: 5\n",
      "sum of grades: 10\n"
     ]
    }
   ],
   "source": [
    "class PodgotovLab:\n",
    "    sym = 0 \n",
    "    def __init__ (self, name, grade):\n",
    "        self.name = name\n",
    "        self.grade = grade\n",
    "        PodgotovLab.sym += grade\n",
    "    def journal (self):\n",
    "        print (\"Name: {} Grade: {}\".format(self.name, self.grade))\n",
    "    def symn (self):\n",
    "        print (\"sum of grades: %d\" %  PodgotovLab.sym)\n",
    "if __name__ == \"__main__\":\n",
    "    podgotovlab1 = PodgotovLab(\"Tom\", 5)\n",
    "    podgotovlab1.journal()\n",
    "    podgotovlab1.symn()\n",
    "    podgotovlab2 = PodgotovLab(\"Tony\", 5)\n",
    "    podgotovlab2.journal()\n",
    "    podgotovlab2.symn()"
   ]
  },
  {
   "cell_type": "code",
   "execution_count": 80,
   "id": "c227587e",
   "metadata": {},
   "outputs": [],
   "source": [
    "# Класс получает значения имени и оценки, выводит оценку и имя ученика и считает сумму всех оценок учеников  "
   ]
  },
  {
   "cell_type": "code",
   "execution_count": null,
   "id": "e5da67ea",
   "metadata": {},
   "outputs": [],
   "source": []
  }
 ],
 "metadata": {
  "kernelspec": {
   "display_name": "Python 3 (ipykernel)",
   "language": "python",
   "name": "python3"
  },
  "language_info": {
   "codemirror_mode": {
    "name": "ipython",
    "version": 3
   },
   "file_extension": ".py",
   "mimetype": "text/x-python",
   "name": "python",
   "nbconvert_exporter": "python",
   "pygments_lexer": "ipython3",
   "version": "3.10.3"
  }
 },
 "nbformat": 4,
 "nbformat_minor": 5
}
