{
  "cells": [
    {
      "cell_type": "markdown",
      "metadata": {
        "id": "view-in-github",
        "colab_type": "text"
      },
      "source": [
        "<a href=\"https://colab.research.google.com/github/Goose-kr/Data_analysis/blob/master/%D0%9A%D0%BE%D0%BF%D0%B8%D1%8F_%D0%B1%D0%BB%D0%BE%D0%BA%D0%BD%D0%BE%D1%82%D0%B0_%22NumPy_%D0%9B%D0%B0%D0%B1%D0%BE%D1%80%D0%B0%D1%82%D0%BE%D1%80%D0%BD%D0%B0%D1%8F_%D0%BD%D0%BE%D0%BB%D1%8C_ipynb%22.ipynb\" target=\"_parent\"><img src=\"https://colab.research.google.com/assets/colab-badge.svg\" alt=\"Open In Colab\"/></a>"
      ]
    },
    {
      "cell_type": "markdown",
      "id": "fa35e820",
      "metadata": {
        "id": "fa35e820"
      },
      "source": [
        "#  Взять из документации по numpy 12 любых функций / методов / операторов и продемонстрировать их работу. Для каждой функции добавить комментарий."
      ]
    },
    {
      "cell_type": "code",
      "execution_count": 19,
      "id": "0108cc2e",
      "metadata": {
        "id": "0108cc2e",
        "outputId": "87668533-c200-4cbb-b67c-3714093b075a",
        "colab": {
          "base_uri": "https://localhost:8080/"
        }
      },
      "outputs": [
        {
          "output_type": "stream",
          "name": "stdout",
          "text": [
            "<class 'numpy.ndarray'>\n",
            "[[0. 0. 0. 0.]\n",
            " [0. 0. 0. 0.]\n",
            " [0. 0. 0. 0.]\n",
            " [0. 0. 0. 0.]]\n",
            "[[1. 1. 1.]\n",
            " [1. 1. 1.]\n",
            " [1. 1. 1.]]\n",
            "[[4.67281549e-310 0.00000000e+000 0.00000000e+000 0.00000000e+000\n",
            "  0.00000000e+000]\n",
            " [0.00000000e+000 0.00000000e+000 0.00000000e+000 0.00000000e+000\n",
            "  0.00000000e+000]\n",
            " [0.00000000e+000 0.00000000e+000 0.00000000e+000 0.00000000e+000\n",
            "  0.00000000e+000]\n",
            " [0.00000000e+000 0.00000000e+000 0.00000000e+000 0.00000000e+000\n",
            "  0.00000000e+000]\n",
            " [0.00000000e+000 0.00000000e+000 0.00000000e+000 0.00000000e+000\n",
            "  0.00000000e+000]]\n",
            "[  1.  12.  23.  34.  45.  56.  67.  78.  89. 100.]\n",
            "[1.e+05 1.e+10 1.e+15 1.e+20 1.e+25]\n",
            "[ 0.0357488  -0.48750603  0.85827279 -0.64525129 -0.3052578 ]\n",
            "[[0 1 2]\n",
            " [3 4 5]\n",
            " [6 7 8]]\n",
            "[[0.41340936 0.05765984]\n",
            " [0.44255448 0.99823498]]\n",
            "[22026.46579481]\n",
            "[3.46410162 5.83095189 3.46410162]\n"
          ]
        }
      ],
      "source": [
        "import numpy as np\n",
        "\n",
        "# Это функция питона  используемая, чтобы вернуть тип переданного параметра\n",
        "a = np.array([[1,2,3],[4,5,6]])\n",
        "print(type(a))\n",
        "\n",
        "# Эта функция создаст массив numpy с заданным количесетвом измерений, где каждый элемент равен нулю \n",
        "b = np.zeros((4,4))\n",
        "print(b)\n",
        "\n",
        "# Все тоже самое, что сверху, но теперь массив единиц \n",
        "c = np.ones((3,3))\n",
        "print(c)\n",
        "\n",
        "# Функция создаст массив, со случайным содержимым (оно зависит от памяти)\n",
        "d = np.empty((5,5))\n",
        "print (d)\n",
        "\n",
        "# Функция создаст массив, элементы которого лежат в диапазоне хначений между start, stop, с шагом step \n",
        "e = np.linspace(1,100,10)\n",
        "print (e)\n",
        "\n",
        "# Функция используется для создания массива, элементы которого лежат в диапазоне значений от start до stop, а num_of_elements - размер массива. Все элементы в пределах логарифмической шкалы, то есть представляют собой логарифмы соответствующих элементов \n",
        "f = np.logspace(5, 25,5)\n",
        "print(f)\n",
        "\n",
        "# Вернет синус параметра \n",
        "print (np.sin(f))\n",
        "\n",
        "# Функция используется для изменения количества измерений массива numpy. От количества аргументов в reshare зависит, сколько измерений будет в массиве numpy.\n",
        "g = np.arange(9)\n",
        "k = np.reshape(g, (3,3)) \n",
        "print(k)\n",
        "\n",
        "# Эта функция возвращает массив с заданным количеством измерений, где каждый элемент генерируется случайным образом.\n",
        "h = np.random.random((2,2))\n",
        "print (h)\n",
        "\n",
        "# Функция вернет ndarray с экспоненциальной величиной каждого элемента.\n",
        "i = np.exp([10])\n",
        "print (i)\n",
        "\n",
        "# Эта функция вернет ndarray с квадратным корнем каждого элемента.\n",
        "j = np.sqrt([12,34,12])\n",
        "print(j)"
      ]
    },
    {
      "cell_type": "markdown",
      "source": [
        "Сгенерировать 3-х мерный массив, где 0-я ось - id группы товаров, 1-я ось - id магазина, 2-я ось - день месяца, в которой осуществлялась продажа \n"
      ],
      "metadata": {
        "id": "9jF2WZEjyrKA"
      },
      "id": "9jF2WZEjyrKA"
    },
    {
      "cell_type": "code",
      "source": [
        "import numpy as np\n",
        "from numpy import random\n",
        "\n",
        "a = np.array([[[0 for i in range(5)]for j in range(12)] for k in range(23)])\n",
        "print(a)\n",
        "print (a.ndim)\n",
        "\n",
        "#b = np.array([[random(5)], [random(10)], [random(40)]])\n",
        "a.insert(1,1)\n",
        "print (a)"
      ],
      "metadata": {
        "colab": {
          "base_uri": "https://localhost:8080/",
          "height": 1000
        },
        "id": "3522-1YBzOzJ",
        "outputId": "ea37329a-b729-4d9e-fa5c-c04b4c7f583a"
      },
      "id": "3522-1YBzOzJ",
      "execution_count": 23,
      "outputs": [
        {
          "output_type": "stream",
          "name": "stdout",
          "text": [
            "[[[0 0 0 0 0]\n",
            "  [0 0 0 0 0]\n",
            "  [0 0 0 0 0]\n",
            "  ...\n",
            "  [0 0 0 0 0]\n",
            "  [0 0 0 0 0]\n",
            "  [0 0 0 0 0]]\n",
            "\n",
            " [[0 0 0 0 0]\n",
            "  [0 0 0 0 0]\n",
            "  [0 0 0 0 0]\n",
            "  ...\n",
            "  [0 0 0 0 0]\n",
            "  [0 0 0 0 0]\n",
            "  [0 0 0 0 0]]\n",
            "\n",
            " [[0 0 0 0 0]\n",
            "  [0 0 0 0 0]\n",
            "  [0 0 0 0 0]\n",
            "  ...\n",
            "  [0 0 0 0 0]\n",
            "  [0 0 0 0 0]\n",
            "  [0 0 0 0 0]]\n",
            "\n",
            " ...\n",
            "\n",
            " [[0 0 0 0 0]\n",
            "  [0 0 0 0 0]\n",
            "  [0 0 0 0 0]\n",
            "  ...\n",
            "  [0 0 0 0 0]\n",
            "  [0 0 0 0 0]\n",
            "  [0 0 0 0 0]]\n",
            "\n",
            " [[0 0 0 0 0]\n",
            "  [0 0 0 0 0]\n",
            "  [0 0 0 0 0]\n",
            "  ...\n",
            "  [0 0 0 0 0]\n",
            "  [0 0 0 0 0]\n",
            "  [0 0 0 0 0]]\n",
            "\n",
            " [[0 0 0 0 0]\n",
            "  [0 0 0 0 0]\n",
            "  [0 0 0 0 0]\n",
            "  ...\n",
            "  [0 0 0 0 0]\n",
            "  [0 0 0 0 0]\n",
            "  [0 0 0 0 0]]]\n",
            "3\n"
          ]
        },
        {
          "output_type": "error",
          "ename": "AttributeError",
          "evalue": "ignored",
          "traceback": [
            "\u001b[0;31m---------------------------------------------------------------------------\u001b[0m",
            "\u001b[0;31mAttributeError\u001b[0m                            Traceback (most recent call last)",
            "\u001b[0;32m<ipython-input-23-7ecb1a4c884d>\u001b[0m in \u001b[0;36m<module>\u001b[0;34m()\u001b[0m\n\u001b[1;32m      7\u001b[0m \u001b[0;34m\u001b[0m\u001b[0m\n\u001b[1;32m      8\u001b[0m \u001b[0;31m#b = np.array([[random(5)], [random(10)], [random(40)]])\u001b[0m\u001b[0;34m\u001b[0m\u001b[0;34m\u001b[0m\u001b[0;34m\u001b[0m\u001b[0m\n\u001b[0;32m----> 9\u001b[0;31m \u001b[0ma\u001b[0m\u001b[0;34m.\u001b[0m\u001b[0minsert\u001b[0m\u001b[0;34m(\u001b[0m\u001b[0;36m1\u001b[0m\u001b[0;34m,\u001b[0m\u001b[0;36m1\u001b[0m\u001b[0;34m)\u001b[0m\u001b[0;34m\u001b[0m\u001b[0;34m\u001b[0m\u001b[0m\n\u001b[0m\u001b[1;32m     10\u001b[0m \u001b[0mprint\u001b[0m \u001b[0;34m(\u001b[0m\u001b[0ma\u001b[0m\u001b[0;34m)\u001b[0m\u001b[0;34m\u001b[0m\u001b[0;34m\u001b[0m\u001b[0m\n",
            "\u001b[0;31mAttributeError\u001b[0m: 'numpy.ndarray' object has no attribute 'insert'"
          ]
        }
      ]
    },
    {
      "cell_type": "markdown",
      "source": [
        ""
      ],
      "metadata": {
        "id": "QKs3eipZzNk8"
      },
      "id": "QKs3eipZzNk8"
    },
    {
      "cell_type": "code",
      "source": [
        ""
      ],
      "metadata": {
        "id": "5yfeevo4zMaV"
      },
      "id": "5yfeevo4zMaV",
      "execution_count": null,
      "outputs": []
    }
  ],
  "metadata": {
    "kernelspec": {
      "display_name": "Python 3 (ipykernel)",
      "language": "python",
      "name": "python3"
    },
    "language_info": {
      "codemirror_mode": {
        "name": "ipython",
        "version": 3
      },
      "file_extension": ".py",
      "mimetype": "text/x-python",
      "name": "python",
      "nbconvert_exporter": "python",
      "pygments_lexer": "ipython3",
      "version": "3.10.3"
    },
    "colab": {
      "name": "Копия блокнота \"NumPy Лабораторная ноль .ipynb\"",
      "provenance": [],
      "collapsed_sections": [],
      "include_colab_link": true
    }
  },
  "nbformat": 4,
  "nbformat_minor": 5
}